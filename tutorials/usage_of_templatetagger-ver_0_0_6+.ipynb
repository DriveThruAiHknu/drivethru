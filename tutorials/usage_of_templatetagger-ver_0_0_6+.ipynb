{
 "cells": [
  {
   "cell_type": "markdown",
   "metadata": {},
   "source": [
    "## KoNLPy.Twitter"
   ]
  },
  {
   "cell_type": "markdown",
   "metadata": {},
   "source": [
    "KoNLPy의 [트위터 한국어 분석기][twitterlink] ([현 오픈 한국어 분석기][openlink])는 속도도 빠르고 다양한 사전도 확보하고 있는 한국어 분석기입니다. 하지만 컴파일이 되어 있는 형태로 KoNLPy에 들어가 있기 때문에 사용자 사전의 추가가 힘들고\\*, 내가 원하는 임의의 태그를 지정할 수 없습니다. \n",
    "\n",
    "customized_KoNLPy는 확실히 알고 있는 단어들에 대해서는 라이브러리를 거치지 않고 주어진 어절을 아는 단어들로 토크나이징 / 품사판별을 하는 기능을 제공합니다. 이를 위해 template 기반 토크나이징을 수행합니다. \n",
    "\n",
    "    사전: {'아이오아이': 'Noun', '는': 'Josa'}\n",
    "    탬플릿: Noun + Josa\n",
    "    \n",
    "위와 같은 단어 리스트와 탬플릿이 있다면 '아이오아이는' 이라는 어절은 [('아이오아이', 'Noun'), ('는', 'Josa')]로 분리됩니다. \n",
    "\n",
    "\\* Scala 코드를 이용할 경우에는 사용자 사전의 추가가 매우 쉽습니다 [참고][openlink]\n",
    "\n",
    "[twitterlink]: https://github.com/twitter/twitter-korean-text\n",
    "[openlink]: https://github.com/open-korean-text/open-korean-text"
   ]
  },
  {
   "cell_type": "markdown",
   "metadata": {},
   "source": [
    "KoNLPy의 버전은 0.4.4 기준입니다. KoNLPy의 Twitter를 이용하여 '우리아이오아이는 정말 이뻐요'라는 문장을 처리하면 '아이오' + '아이'로 명사가 잘못 인식됩니다. 트와이스의 'tt' 역시 명사보다는 영어로 인식됩니다. 한국어 분석기 이지만, tt는 명사로 미리 분류하고 싶습니다. "
   ]
  },
  {
   "cell_type": "code",
   "execution_count": 1,
   "metadata": {},
   "outputs": [
    {
     "data": {
      "text/plain": [
       "'0.5.1'"
      ]
     },
     "execution_count": 1,
     "metadata": {},
     "output_type": "execute_result"
    }
   ],
   "source": [
    "from pprint import pprint\n",
    "import konlpy\n",
    "konlpy.__version__"
   ]
  },
  {
   "cell_type": "code",
   "execution_count": 2,
   "metadata": {},
   "outputs": [
    {
     "name": "stderr",
     "output_type": "stream",
     "text": [
      "/home/lovit/anaconda2/envs/scrapper/lib/python3.6/site-packages/konlpy/tag/_okt.py:16: UserWarning: \"Twitter\" has changed to \"Okt\" since KoNLPy v0.4.5.\n",
      "  warn('\"Twitter\" has changed to \"Okt\" since KoNLPy v0.4.5.')\n"
     ]
    },
    {
     "name": "stdout",
     "output_type": "stream",
     "text": [
      "[('우리', 'Noun'), ('아이오', 'Noun'), ('아이', 'Noun'), ('는', 'Josa'), ('정말', 'Noun'), ('이뻐요', 'Adjective')] \n",
      "\n",
      "[('트', 'Noun'), ('둥이', 'Noun'), ('꺼', 'Suffix'), ('tt', 'Alpha'), ('도', 'Noun'), ('좋아요', 'Adjective')]\n"
     ]
    }
   ],
   "source": [
    "from konlpy.tag import Twitter as OriginalTwitter\n",
    "\n",
    "twitter_original = OriginalTwitter()\n",
    "print(twitter_original.pos('우리아이오아이는 정말 이뻐요'),'\\n')\n",
    "print(twitter_original.pos('트둥이꺼 tt도 좋아요'))"
   ]
  },
  {
   "cell_type": "markdown",
   "metadata": {},
   "source": [
    "customized_KoNLPy 에는 현재 트위터 한국어 분석기 만을 이용하는 wrapping class만 제공되고 있습니다. customized_KoNLPy의 Twitter는 본래 KoNLPy의 tag에 추가되는 함수가 있습니다. \n",
    "\n",
    "Twitter.add_dictionary(words, tag)는 사용자가 사전을 추가할 수 있는 부분입니다. 단어를 하나씩 추가할 수 있습니다. 추가한 뒤 Twitter의 숨김 변수인 \\_dictionary.\\_pos2words를 확인해보면 입력한 단어들을 볼 수 있습니다. "
   ]
  },
  {
   "cell_type": "markdown",
   "metadata": {},
   "source": [
    "## ckonlpy.Twitter\n",
    "\n",
    "### Add word to custom-dictionary"
   ]
  },
  {
   "cell_type": "markdown",
   "metadata": {},
   "source": [
    "git clone을 한 상태에서 tutorial code를 이용하신다면 아래의 코드를 실행하여 path를 추가하십시요"
   ]
  },
  {
   "cell_type": "code",
   "execution_count": 3,
   "metadata": {},
   "outputs": [
    {
     "name": "stdout",
     "output_type": "stream",
     "text": [
      "ckonlpy version = 0.0.63\n"
     ]
    }
   ],
   "source": [
    "import sys\n",
    "sys.path.insert(0, '../')\n",
    "\n",
    "import ckonlpy\n",
    "print('ckonlpy version = {}'.format(ckonlpy.__version__))"
   ]
  },
  {
   "cell_type": "code",
   "execution_count": 4,
   "metadata": {},
   "outputs": [
    {
     "name": "stdout",
     "output_type": "stream",
     "text": [
      "{'Josa': {'는', '은'},\n",
      " 'Modifier': {'우리', '이', '이번'},\n",
      " 'Noun': {'것', '아이오아이', '행사', '아이', '번것'}}\n"
     ]
    },
    {
     "name": "stderr",
     "output_type": "stream",
     "text": [
      "/home/lovit/anaconda2/envs/scrapper/lib/python3.6/site-packages/konlpy/tag/_okt.py:16: UserWarning: \"Twitter\" has changed to \"Okt\" since KoNLPy v0.4.5.\n",
      "  warn('\"Twitter\" has changed to \"Okt\" since KoNLPy v0.4.5.')\n"
     ]
    }
   ],
   "source": [
    "from ckonlpy.tag import Twitter\n",
    "\n",
    "# use_twitter_dictionary 의 default 는 True 입니다.\n",
    "twitter = Twitter(use_twitter_dictionary=False)\n",
    "\n",
    "twitter.add_dictionary('이', 'Modifier')\n",
    "twitter.add_dictionary('우리', 'Modifier')\n",
    "twitter.add_dictionary('이번', 'Modifier')\n",
    "twitter.add_dictionary('아이오아이', 'Noun')\n",
    "twitter.add_dictionary('행사', 'Noun')\n",
    "twitter.add_dictionary('아이', 'Noun')\n",
    "twitter.add_dictionary('번것', 'Noun')\n",
    "twitter.add_dictionary('것', 'Noun')\n",
    "twitter.add_dictionary('은', 'Josa')\n",
    "twitter.add_dictionary('는', 'Josa')\n",
    "\n",
    "if twitter.use_twitter_dictionary:\n",
    "    pprint(twitter.dictionary._pos2words.keys())\n",
    "else:\n",
    "    pprint(twitter.dictionary._pos2words)"
   ]
  },
  {
   "cell_type": "markdown",
   "metadata": {},
   "source": [
    "사전을 추가한 뒤, '아이오아이'가 명사로 제대로 인식됨을 확인할 수 있습니다. "
   ]
  },
  {
   "cell_type": "code",
   "execution_count": 5,
   "metadata": {},
   "outputs": [
    {
     "data": {
      "text/plain": [
       "[('우리', 'Modifier'),\n",
       " ('아이오아이', 'Noun'),\n",
       " ('는', 'Josa'),\n",
       " ('정말', 'Noun'),\n",
       " ('이뻐요', 'Adjective')]"
      ]
     },
     "execution_count": 5,
     "metadata": {},
     "output_type": "execute_result"
    }
   ],
   "source": [
    "twitter.pos('우리아이오아이는 정말 이뻐요')"
   ]
  },
  {
   "cell_type": "code",
   "execution_count": 6,
   "metadata": {},
   "outputs": [
    {
     "data": {
      "text/plain": [
       "[('아이오아이', 'Noun'), ('이뻐요', 'Adjective')]"
      ]
     },
     "execution_count": 6,
     "metadata": {},
     "output_type": "execute_result"
    }
   ],
   "source": [
    "twitter.pos('아이오아이 이뻐요')"
   ]
  },
  {
   "cell_type": "markdown",
   "metadata": {},
   "source": [
    "사전을 추가할 때, 하나의 품사에 대하여 동시에 여러 개의 단어셋을 입력할 수도 있습니다.\n",
    "\n",
    "Twitter.add_dictionary(words, tag)는 한번에 list of str 형식의 여러 개의 단어들을 입력할 수도 있습니다. "
   ]
  },
  {
   "cell_type": "code",
   "execution_count": 7,
   "metadata": {},
   "outputs": [
    {
     "name": "stdout",
     "output_type": "stream",
     "text": [
      "{'Josa': {'는', '은'},\n",
      " 'Modifier': {'우리', '이', '이번'},\n",
      " 'Noun': {'꺼', 'tt', '행사', '번것', '트둥이', '것', '아이오아이', '트와이스', '아이', '우리'}}\n"
     ]
    }
   ],
   "source": [
    "twitter.add_dictionary(['트와이스', 'tt', '트둥이', '꺼', '우리'], 'Noun')\n",
    "pprint(twitter.dictionary._pos2words)"
   ]
  },
  {
   "cell_type": "code",
   "execution_count": 8,
   "metadata": {},
   "outputs": [
    {
     "data": {
      "text/plain": [
       "[('트와이스', 'Noun'), ('tt', 'Noun'), ('는', 'Josa'), ('좋아요', 'Adjective')]"
      ]
     },
     "execution_count": 8,
     "metadata": {},
     "output_type": "execute_result"
    }
   ],
   "source": [
    "twitter.pos('트와이스tt는 좋아요')"
   ]
  },
  {
   "cell_type": "markdown",
   "metadata": {},
   "source": [
    "### Use KoNLPy.Twitter dictionary"
   ]
  },
  {
   "cell_type": "markdown",
   "metadata": {},
   "source": [
    "트위터 분석기의 조사사전을 이용할 수도 있습니다. Twitter()를 만들 때 argument를 넣을 수 있습니다. "
   ]
  },
  {
   "cell_type": "code",
   "execution_count": 9,
   "metadata": {},
   "outputs": [
    {
     "name": "stderr",
     "output_type": "stream",
     "text": [
      "/home/lovit/anaconda2/envs/scrapper/lib/python3.6/site-packages/konlpy/tag/_okt.py:16: UserWarning: \"Twitter\" has changed to \"Okt\" since KoNLPy v0.4.5.\n",
      "  warn('\"Twitter\" has changed to \"Okt\" since KoNLPy v0.4.5.')\n"
     ]
    },
    {
     "data": {
      "text/plain": [
       "512"
      ]
     },
     "execution_count": 9,
     "metadata": {},
     "output_type": "execute_result"
    }
   ],
   "source": [
    "twitter1 = Twitter(use_twitter_dictionary=True)\n",
    "len(twitter1.dictionary._pos2words['Josa'])"
   ]
  },
  {
   "cell_type": "markdown",
   "metadata": {},
   "source": [
    "### Template\n",
    "현재는 customized_tagger로 탬플릿 기반 토크나이저를 이용하고 있습니다. 어떤 탬플릿이 들어있는지 확인하기 위해서는 아래 부분을 확인하면 됩니다. \n",
    "\n",
    "    twitter._customized_tagger.templates\n",
    "    \n",
    "현재는 다음의 탬플릿이 입력되어 있습니다. "
   ]
  },
  {
   "cell_type": "code",
   "execution_count": 10,
   "metadata": {},
   "outputs": [
    {
     "data": {
      "text/plain": [
       "[('Adjective',),\n",
       " ('Adverb',),\n",
       " ('Conjunction',),\n",
       " ('Exclamation',),\n",
       " ('KoreanParticle',),\n",
       " ('Noun',),\n",
       " ('Verb',),\n",
       " ('Noun', 'Noun'),\n",
       " ('Noun', 'Josa'),\n",
       " ('Noun', 'Adjective'),\n",
       " ('Noun', 'Verb'),\n",
       " ('Modifier', 'Noun'),\n",
       " ('Noun', 'Noun', 'Adjective'),\n",
       " ('Noun', 'Noun', 'Josa'),\n",
       " ('Noun', 'Noun', 'Verb'),\n",
       " ('Modifier', 'Noun', 'Josa')]"
      ]
     },
     "execution_count": 10,
     "metadata": {},
     "output_type": "execute_result"
    }
   ],
   "source": [
    "twitter.template_tagger.templates"
   ]
  },
  {
   "cell_type": "markdown",
   "metadata": {},
   "source": [
    "기본 탬플릿은 customized_konlpy/data/templates/twitter_templates0 에 저장되어 있습니다. text 형식의 파일이며, 띄어쓰기로 아래와 같은 기본 템플릿을 지정하면 됩니다. "
   ]
  },
  {
   "cell_type": "code",
   "execution_count": 11,
   "metadata": {},
   "outputs": [
    {
     "name": "stdout",
     "output_type": "stream",
     "text": [
      "Adjective\r\n",
      "Adverb\r\n",
      "Conjunction\r\n",
      "Exclamation\r\n",
      "KoreanParticle\r\n",
      "Noun\r\n",
      "Verb\r\n",
      "Noun Noun\r\n",
      "Noun Josa\r\n",
      "Noun Adjective\r\n",
      "Noun Verb\r\n",
      "Modifier Noun\r\n",
      "Noun Noun Adjective\r\n",
      "Noun Noun Josa\r\n",
      "Noun Noun Verb\r\n",
      "Modifier Noun Josa"
     ]
    }
   ],
   "source": [
    "cat ../ckonlpy/data/templates/twitter_templates0"
   ]
  },
  {
   "cell_type": "markdown",
   "metadata": {},
   "source": [
    "('Noun', 'Noun', 'Josa')가 입력되었고, '트와이스', 'tt'가 명사인지 알고 있기 때문에 아래 문장은 제대로 인식이 됩니다. "
   ]
  },
  {
   "cell_type": "code",
   "execution_count": 12,
   "metadata": {},
   "outputs": [
    {
     "data": {
      "text/plain": [
       "[('우리', 'Noun'),\n",
       " ('트둥이', 'Noun'),\n",
       " ('tt', 'Noun'),\n",
       " ('는', 'Josa'),\n",
       " ('좋아요', 'Adjective')]"
      ]
     },
     "execution_count": 12,
     "metadata": {},
     "output_type": "execute_result"
    }
   ],
   "source": [
    "twitter.pos('우리트둥이tt는 좋아요')"
   ]
  },
  {
   "cell_type": "markdown",
   "metadata": {},
   "source": [
    "(Noun, Noun, Noun, Josa) 가 template 에 없지만, (Noun, ) 과 (Noun, Noun, Josa) 가 있기 때문에 매칭이 됩니다. "
   ]
  },
  {
   "cell_type": "code",
   "execution_count": 13,
   "metadata": {},
   "outputs": [
    {
     "data": {
      "text/plain": [
       "[('우리', 'Noun'),\n",
       " ('트둥이', 'Noun'),\n",
       " ('tt', 'Noun'),\n",
       " ('는', 'Josa'),\n",
       " ('좋아요', 'Adjective')]"
      ]
     },
     "execution_count": 13,
     "metadata": {},
     "output_type": "execute_result"
    }
   ],
   "source": [
    "twitter.pos('우리트둥이tt는 좋아요')"
   ]
  },
  {
   "cell_type": "markdown",
   "metadata": {},
   "source": [
    "버전 0.0.5x 까지는 어절 전체가 template 에 매칭될 때에만 template tagger 를 이용하였습니다. 하지만, 0.0.6+ 이상에서는 어절의 중간에 template matching 이 되어도 template tagger 를 이용합니다.\n",
    "\n",
    "이전처럼 어절 전체가 template 으로 완전히 매칭될 때만 template tagger 를 이용하고 싶다면 perfect_match = True 로 설정합니다.\n",
    "\n",
    "(Noun, Noun, Noun, Josa) template 은 없기 때문에 perfect_match = True 로 설정하면, 어절을 base tagger 를 이용하여 품사 판별을 수행합니다."
   ]
  },
  {
   "cell_type": "code",
   "execution_count": 14,
   "metadata": {},
   "outputs": [
    {
     "data": {
      "text/plain": [
       "[('우', 'Adverb'),\n",
       " ('리트', 'Noun'),\n",
       " ('둥이', 'Noun'),\n",
       " ('tt', 'Alpha'),\n",
       " ('는', 'Verb'),\n",
       " ('좋아요', 'Adjective')]"
      ]
     },
     "execution_count": 14,
     "metadata": {},
     "output_type": "execute_result"
    }
   ],
   "source": [
    "twitter.pos('우리트둥이tt는 좋아요', perfect_match=True)"
   ]
  },
  {
   "cell_type": "markdown",
   "metadata": {},
   "source": [
    "작업 중 탬플릿을 추가하고 싶다면, 탬플릿은 하나 단위로 tuple of str의 형식으로 입력할 수 있습니다.\n",
    "\n",
    "\\_customized_tagger.add_a_templated()은 중복되는 탬플릿이 아닌지 확인한 다음 탬플릿을 추가하는 함수입니다. \n",
    "\n",
    "\n"
   ]
  },
  {
   "cell_type": "code",
   "execution_count": 15,
   "metadata": {},
   "outputs": [
    {
     "data": {
      "text/plain": [
       "[('Adjective',),\n",
       " ('Adverb',),\n",
       " ('Conjunction',),\n",
       " ('Exclamation',),\n",
       " ('KoreanParticle',),\n",
       " ('Noun',),\n",
       " ('Verb',),\n",
       " ('Noun', 'Noun'),\n",
       " ('Noun', 'Josa'),\n",
       " ('Noun', 'Adjective'),\n",
       " ('Noun', 'Verb'),\n",
       " ('Modifier', 'Noun'),\n",
       " ('Noun', 'Noun', 'Adjective'),\n",
       " ('Noun', 'Noun', 'Josa'),\n",
       " ('Noun', 'Noun', 'Verb'),\n",
       " ('Modifier', 'Noun', 'Josa'),\n",
       " ('Noun', 'Noun', 'Noun', 'Josa')]"
      ]
     },
     "execution_count": 15,
     "metadata": {},
     "output_type": "execute_result"
    }
   ],
   "source": [
    "twitter.template_tagger.add_a_template(('Noun', 'Noun', 'Noun', 'Josa'))\n",
    "twitter.template_tagger.templates"
   ]
  },
  {
   "cell_type": "markdown",
   "metadata": {},
   "source": [
    "Template 을 추가하면 perfect_match 일 때에도 매칭이 되는 template 이 있기 때문에 동일한 결과가 출력됩니다."
   ]
  },
  {
   "cell_type": "code",
   "execution_count": 16,
   "metadata": {},
   "outputs": [
    {
     "data": {
      "text/plain": [
       "[('우리', 'Noun'),\n",
       " ('트둥이', 'Noun'),\n",
       " ('tt', 'Noun'),\n",
       " ('는', 'Josa'),\n",
       " ('좋아요', 'Adjective')]"
      ]
     },
     "execution_count": 16,
     "metadata": {},
     "output_type": "execute_result"
    }
   ],
   "source": [
    "twitter.pos('우리트둥이tt는 좋아요', perfect_match=True)"
   ]
  },
  {
   "cell_type": "markdown",
   "metadata": {},
   "source": [
    "### Out of tags\n",
    "\n",
    "사전을 추가할 때, 트위터 한국어 분석기에 존재하지 않는 태그가 들어가는 것을 방지하기 위해 tag의 값을 확인하는 부분이 구현되어 있습니다. \n",
    "\n",
    "    twitter.tagset\n",
    "    \n",
    "    >>> {'Adjective': '형용사',\n",
    "         'Adverb': '부사',\n",
    "         'Alpha': '알파벳',\n",
    "         'Conjunction': '접속사',\n",
    "         'Determiner': '관형사',\n",
    "         'Eomi': '어미',\n",
    "         'Exclamation': '감탄사',\n",
    "         'Foreign': '외국어, 한자 및 기타기호',\n",
    "         'Hashtag': '트위터 해쉬태그',\n",
    "         'Josa': '조사',\n",
    "         'KoreanParticle': '(ex: ㅋㅋ)',\n",
    "         'Modifier': '관형사',\n",
    "         'Noun': '명사',\n",
    "         'Number': '숫자',\n",
    "         'PreEomi': '선어말어미',\n",
    "         'Punctuation': '구두점',\n",
    "         'ScreenName': '트위터 아이디',\n",
    "         'Suffix': '접미사',\n",
    "         'Unknown': '미등록어',\n",
    "         'Verb': '동사'}\n",
    "         \n",
    "twitter.tagset에 등록되어 있지 않는 품사에 대해서는 ValueError를 raise 합니다. "
   ]
  },
  {
   "cell_type": "code",
   "execution_count": 17,
   "metadata": {},
   "outputs": [
    {
     "ename": "ValueError",
     "evalue": "Name is not available tag",
     "output_type": "error",
     "traceback": [
      "\u001b[0;31m---------------------------------------------------------------------------\u001b[0m",
      "\u001b[0;31mValueError\u001b[0m                                Traceback (most recent call last)",
      "\u001b[0;32m<ipython-input-17-849546ef1046>\u001b[0m in \u001b[0;36m<module>\u001b[0;34m()\u001b[0m\n\u001b[0;32m----> 1\u001b[0;31m \u001b[0mtwitter\u001b[0m\u001b[0;34m.\u001b[0m\u001b[0madd_dictionary\u001b[0m\u001b[0;34m(\u001b[0m\u001b[0;34m'lovit'\u001b[0m\u001b[0;34m,\u001b[0m \u001b[0;34m'Name'\u001b[0m\u001b[0;34m)\u001b[0m\u001b[0;34m\u001b[0m\u001b[0m\n\u001b[0m",
      "\u001b[0;32m/mnt/lovit/git/customized-konlpy/ckonlpy/tag/_abstract.py\u001b[0m in \u001b[0;36madd_dictionary\u001b[0;34m(self, words, tag, force)\u001b[0m\n\u001b[1;32m     46\u001b[0m     \u001b[0;32mdef\u001b[0m \u001b[0madd_dictionary\u001b[0m\u001b[0;34m(\u001b[0m\u001b[0mself\u001b[0m\u001b[0;34m,\u001b[0m \u001b[0mwords\u001b[0m\u001b[0;34m,\u001b[0m \u001b[0mtag\u001b[0m\u001b[0;34m,\u001b[0m \u001b[0mforce\u001b[0m\u001b[0;34m=\u001b[0m\u001b[0;32mFalse\u001b[0m\u001b[0;34m)\u001b[0m\u001b[0;34m:\u001b[0m\u001b[0;34m\u001b[0m\u001b[0m\n\u001b[1;32m     47\u001b[0m         \u001b[0;32mif\u001b[0m \u001b[0;34m(\u001b[0m\u001b[0;32mnot\u001b[0m \u001b[0mforce\u001b[0m\u001b[0;34m)\u001b[0m \u001b[0;32mand\u001b[0m \u001b[0;34m(\u001b[0m\u001b[0;32mnot\u001b[0m \u001b[0;34m(\u001b[0m\u001b[0mtag\u001b[0m \u001b[0;32min\u001b[0m \u001b[0mself\u001b[0m\u001b[0;34m.\u001b[0m\u001b[0mtagset\u001b[0m\u001b[0;34m)\u001b[0m\u001b[0;34m)\u001b[0m\u001b[0;34m:\u001b[0m\u001b[0;34m\u001b[0m\u001b[0m\n\u001b[0;32m---> 48\u001b[0;31m             \u001b[0;32mraise\u001b[0m \u001b[0mValueError\u001b[0m\u001b[0;34m(\u001b[0m\u001b[0;34m'%s is not available tag'\u001b[0m \u001b[0;34m%\u001b[0m \u001b[0mtag\u001b[0m\u001b[0;34m)\u001b[0m\u001b[0;34m\u001b[0m\u001b[0m\n\u001b[0m\u001b[1;32m     49\u001b[0m         \u001b[0;32mif\u001b[0m \u001b[0;34m(\u001b[0m\u001b[0mforce\u001b[0m\u001b[0;34m)\u001b[0m \u001b[0;32mand\u001b[0m \u001b[0;34m(\u001b[0m\u001b[0;32mnot\u001b[0m \u001b[0;34m(\u001b[0m\u001b[0mtag\u001b[0m \u001b[0;32min\u001b[0m \u001b[0mself\u001b[0m\u001b[0;34m.\u001b[0m\u001b[0mtagset\u001b[0m\u001b[0;34m)\u001b[0m\u001b[0;34m)\u001b[0m\u001b[0;34m:\u001b[0m\u001b[0;34m\u001b[0m\u001b[0m\n\u001b[1;32m     50\u001b[0m             \u001b[0mself\u001b[0m\u001b[0;34m.\u001b[0m\u001b[0mtemplate_tagger\u001b[0m\u001b[0;34m.\u001b[0m\u001b[0madd_a_template\u001b[0m\u001b[0;34m(\u001b[0m\u001b[0;34m(\u001b[0m\u001b[0mtag\u001b[0m\u001b[0;34m,\u001b[0m\u001b[0;34m)\u001b[0m\u001b[0;34m)\u001b[0m\u001b[0;34m\u001b[0m\u001b[0m\n",
      "\u001b[0;31mValueError\u001b[0m: Name is not available tag"
     ]
    }
   ],
   "source": [
    "twitter.add_dictionary('lovit', 'Name')"
   ]
  },
  {
   "cell_type": "markdown",
   "metadata": {},
   "source": [
    "하지만 Twitter.add_dictionary(words, tag, force=True)로 단어를 사전에 입력하면 알려지지 않은 품사라 하더라도 입력할 수 있습니다. "
   ]
  },
  {
   "cell_type": "code",
   "execution_count": 18,
   "metadata": {},
   "outputs": [
    {
     "name": "stdout",
     "output_type": "stream",
     "text": [
      "dict_keys(['Modifier', 'Noun', 'Josa', 'Name'])\n"
     ]
    }
   ],
   "source": [
    "twitter.add_dictionary('lovit', 'Name', force=True)\n",
    "print(twitter.dictionary._pos2words.keys())"
   ]
  },
  {
   "cell_type": "markdown",
   "metadata": {},
   "source": [
    "알려지지 않은 품사를 단어 사전에 추가하면 template 에 해당 단어가 잡힐 수 있도록 자동으로 (tag,) 라는 템플릿이 추가됩니다."
   ]
  },
  {
   "cell_type": "code",
   "execution_count": 19,
   "metadata": {},
   "outputs": [
    {
     "data": {
      "text/plain": [
       "[('Adjective',),\n",
       " ('Adverb',),\n",
       " ('Conjunction',),\n",
       " ('Exclamation',),\n",
       " ('KoreanParticle',),\n",
       " ('Noun',),\n",
       " ('Verb',),\n",
       " ('Noun', 'Noun'),\n",
       " ('Noun', 'Josa'),\n",
       " ('Noun', 'Adjective'),\n",
       " ('Noun', 'Verb'),\n",
       " ('Modifier', 'Noun'),\n",
       " ('Noun', 'Noun', 'Adjective'),\n",
       " ('Noun', 'Noun', 'Josa'),\n",
       " ('Noun', 'Noun', 'Verb'),\n",
       " ('Modifier', 'Noun', 'Josa'),\n",
       " ('Noun', 'Noun', 'Noun', 'Josa'),\n",
       " ('Name',)]"
      ]
     },
     "execution_count": 19,
     "metadata": {},
     "output_type": "execute_result"
    }
   ],
   "source": [
    "twitter.template_tagger.templates"
   ]
  },
  {
   "cell_type": "markdown",
   "metadata": {},
   "source": [
    "하지만 아래 문장에서 ('Name', 'Josa') 라는 template 이 없기 때문에 '은'이 명사로 처리됩니다."
   ]
  },
  {
   "cell_type": "code",
   "execution_count": 20,
   "metadata": {},
   "outputs": [
    {
     "data": {
      "text/plain": [
       "[('lovit', 'Name'), ('은', 'Noun'), ('이름', 'Noun'), ('입니다', 'Adjective')]"
      ]
     },
     "execution_count": 20,
     "metadata": {},
     "output_type": "execute_result"
    }
   ],
   "source": [
    "twitter.pos('lovit은 이름입니다')"
   ]
  },
  {
   "cell_type": "markdown",
   "metadata": {},
   "source": [
    "'Name'이라는 클래스 (더이상 품사가 아니므로)를 이용하는 탬플릿을 하나 입력한 뒤 pos에 입력하면 어절 'lovit은' customized_tagger에 의하여 처리가 되고, 사용자 사전에 알려지지 않은 어절은 본래의 트위터 분석기에 의하여 처리가 됩니다. "
   ]
  },
  {
   "cell_type": "code",
   "execution_count": 21,
   "metadata": {},
   "outputs": [
    {
     "name": "stdout",
     "output_type": "stream",
     "text": [
      "[('Adjective',),\n",
      " ('Adverb',),\n",
      " ('Conjunction',),\n",
      " ('Exclamation',),\n",
      " ('KoreanParticle',),\n",
      " ('Noun',),\n",
      " ('Verb',),\n",
      " ('Noun', 'Noun'),\n",
      " ('Noun', 'Josa'),\n",
      " ('Noun', 'Adjective'),\n",
      " ('Noun', 'Verb'),\n",
      " ('Modifier', 'Noun'),\n",
      " ('Noun', 'Noun', 'Adjective'),\n",
      " ('Noun', 'Noun', 'Josa'),\n",
      " ('Noun', 'Noun', 'Verb'),\n",
      " ('Modifier', 'Noun', 'Josa'),\n",
      " ('Noun', 'Noun', 'Noun', 'Josa'),\n",
      " ('Name',),\n",
      " ('Name', 'Josa')]\n"
     ]
    },
    {
     "data": {
      "text/plain": [
       "[('lovit', 'Name'),\n",
       " ('은', 'Josa'),\n",
       " ('이름', 'Noun'),\n",
       " ('입니다', 'Adjective'),\n",
       " ('.', 'Punctuation')]"
      ]
     },
     "execution_count": 21,
     "metadata": {},
     "output_type": "execute_result"
    }
   ],
   "source": [
    "twitter.template_tagger.add_a_template(('Name', 'Josa'))\n",
    "pprint(twitter.template_tagger.templates)\n",
    "twitter.pos('lovit은 이름입니다.')"
   ]
  },
  {
   "cell_type": "markdown",
   "metadata": {},
   "source": [
    "### Scoring\n",
    "\n",
    "Templates를 이용하여도 후보가 여러 개 나올 수 있습니다. 여러 개 후보 중에서 best 를 선택하는 함수를 직접 디자인 할 수 도 있습니다. 이처럼 몇 개의 점수 기준을 만들고, 각 기준의 weight를 부여하는 방식은 트위터 분석기에서 이용하는 방식인데, 직관적이고 튜닝 가능해서 매우 좋은 방식이라 생각합니다. "
   ]
  },
  {
   "cell_type": "code",
   "execution_count": 22,
   "metadata": {},
   "outputs": [
    {
     "name": "stdout",
     "output_type": "stream",
     "text": [
      "candidate\n",
      "[('이', 'Noun', 0, 1),\n",
      " ('것', 'Noun', 1, 2),\n",
      " ('은', 'Josa', 2, 3),\n",
      " ('테', 'Noun', 3, 4),\n",
      " ('스트', 'Noun', 4, 6)]\n",
      "score = -0.3999999999999999\n",
      "\n",
      "candidate\n",
      "[('이것', 'Noun', 0, 2),\n",
      " ('은', 'Josa', 2, 3),\n",
      " ('테', 'Noun', 3, 4),\n",
      " ('스트', 'Noun', 4, 6)]\n",
      "score = -0.10000000000000009\n",
      "\n",
      "candidate\n",
      "[('이것', 'Noun', 0, 2), ('은', 'Josa', 2, 3), ('테스트', 'Noun', 3, 6)]\n",
      "score = 0.19999999999999996\n",
      "\n"
     ]
    }
   ],
   "source": [
    "my_weights = [\n",
    "    ('num_nouns', -0.1), \n",
    "    ('num_words', -0.2),\n",
    "    ('no_noun', -1),\n",
    "    ('len_sum_of_nouns', 0.2)\n",
    "]\n",
    "\n",
    "def my_evaluate_function(candidate):\n",
    "    num_nouns = len([word for word, pos, begin, e in candidate if pos == 'Noun'])\n",
    "    num_words = len(candidate)\n",
    "    has_no_nouns = (num_nouns == 0)\n",
    "    len_sum_of_nouns = 0 if has_no_nouns else sum(\n",
    "        (len(word) for word, pos, _, _ in candidate if pos == 'Noun'))\n",
    "\n",
    "    scores = (num_nouns, num_words, has_no_nouns, len_sum_of_nouns)\n",
    "    score = sum((score * weight for score, (_, weight) in zip(scores, my_weights)))\n",
    "    return score\n",
    "\n",
    "twitter.set_evaluator(my_weights, my_evaluate_function, test=True)"
   ]
  },
  {
   "cell_type": "markdown",
   "metadata": {},
   "source": [
    "### Stem, Norm\n",
    "\n",
    "pos 함수에서 norm, stem 옵션을 사용할 수 있습니다."
   ]
  },
  {
   "cell_type": "code",
   "execution_count": 23,
   "metadata": {},
   "outputs": [
    {
     "data": {
      "text/plain": [
       "[('테스트', 'Noun'), ('이다', 'Adjective')]"
      ]
     },
     "execution_count": 23,
     "metadata": {},
     "output_type": "execute_result"
    }
   ],
   "source": [
    "twitter.pos('테스트입니다', norm=True, stem=True)"
   ]
  },
  {
   "cell_type": "code",
   "execution_count": 24,
   "metadata": {},
   "outputs": [
    {
     "data": {
      "text/plain": [
       "[('테스트', 'Noun'), ('입니다', 'Adjective')]"
      ]
     },
     "execution_count": 24,
     "metadata": {},
     "output_type": "execute_result"
    }
   ],
   "source": [
    "twitter.pos('테스트입니다', norm=True, stem=False)"
   ]
  },
  {
   "cell_type": "code",
   "execution_count": 25,
   "metadata": {},
   "outputs": [
    {
     "data": {
      "text/plain": [
       "[('테스트', 'Noun'), ('이다', 'Adjective')]"
      ]
     },
     "execution_count": 25,
     "metadata": {},
     "output_type": "execute_result"
    }
   ],
   "source": [
    "twitter.pos('테스트입니다', norm=False, stem=True)"
   ]
  },
  {
   "cell_type": "markdown",
   "metadata": {},
   "source": [
    "### Postprocessing\n",
    "\n",
    "passwords, stopwords, 특정 품사, 혹은 미리 정의된 사전을 이용하여 단어를 변환하여 출력합니다. \n",
    "\n",
    "passwords 는 단어, (단어, 품사)를 입력하면 해당 단어 외에는 출력하지 않습니다. "
   ]
  },
  {
   "cell_type": "code",
   "execution_count": 26,
   "metadata": {},
   "outputs": [
    {
     "name": "stdout",
     "output_type": "stream",
     "text": [
      "before : [('우리', 'Noun'), ('아이오아이', 'Noun'), ('는', 'Verb'), ('정말', 'Noun'), ('이뻐요', 'Adjective')]\n",
      "\n",
      "after  : [('아이오아이', 'Noun'), ('정말', 'Noun')]\n"
     ]
    }
   ],
   "source": [
    "from ckonlpy.tag import Postprocessor\n",
    "\n",
    "passwords = {'아이오아이', ('정말', 'Noun')}\n",
    "postprocessor = Postprocessor(\n",
    "    base_tagger = twitter,\n",
    "    passwords = passwords\n",
    ")\n",
    "\n",
    "sent = '우리아이오아이는 정말 이뻐요'\n",
    "print('before : %s\\n' % twitter.pos(sent))\n",
    "print('after  : %s' % postprocessor.pos(sent))"
   ]
  },
  {
   "cell_type": "markdown",
   "metadata": {},
   "source": [
    "stopwords 에 등록된 단어, (단어, 품사)는 pos 결과에서 제외됩니다. "
   ]
  },
  {
   "cell_type": "code",
   "execution_count": 27,
   "metadata": {},
   "outputs": [
    {
     "name": "stdout",
     "output_type": "stream",
     "text": [
      "before : [('우리', 'Noun'), ('아이오아이', 'Noun'), ('는', 'Verb'), ('정말', 'Noun'), ('이뻐요', 'Adjective')]\n",
      "\n",
      "after  : [('우리', 'Noun'), ('아이오아이', 'Noun'), ('정말', 'Noun'), ('이뻐요', 'Adjective')]\n"
     ]
    }
   ],
   "source": [
    "stopwords = {'는'}\n",
    "\n",
    "postprocessor = Postprocessor(\n",
    "    base_tagger = twitter,\n",
    "    stopwords = stopwords\n",
    ")\n",
    "\n",
    "sent = '우리아이오아이는 정말 이뻐요'\n",
    "print('before : %s\\n' % twitter.pos(sent))\n",
    "print('after  : %s' % postprocessor.pos(sent))"
   ]
  },
  {
   "cell_type": "markdown",
   "metadata": {},
   "source": [
    "특정 품사를 지정하면 해당 품사만 pos 에서 출력됩니다. "
   ]
  },
  {
   "cell_type": "code",
   "execution_count": 28,
   "metadata": {},
   "outputs": [
    {
     "name": "stdout",
     "output_type": "stream",
     "text": [
      "before : [('우리', 'Noun'), ('아이오아이', 'Noun'), ('는', 'Verb'), ('정말', 'Noun'), ('이뻐요', 'Adjective')]\n",
      "\n",
      "after  : [('우리', 'Noun'), ('아이오아이', 'Noun'), ('정말', 'Noun')]\n"
     ]
    }
   ],
   "source": [
    "passtags = {'Noun'}\n",
    "\n",
    "postprocessor = Postprocessor(\n",
    "    base_tagger = twitter,\n",
    "    passtags = passtags\n",
    ")\n",
    "\n",
    "sent = '우리아이오아이는 정말 이뻐요'\n",
    "print('before : %s\\n' % twitter.pos(sent))\n",
    "print('after  : %s' % postprocessor.pos(sent))"
   ]
  },
  {
   "cell_type": "markdown",
   "metadata": {},
   "source": [
    "치환할 단어, (단어, 품사)를 dict 형식으로 정의하면 pos 에서 단어가 치환되어 출력됩니다. "
   ]
  },
  {
   "cell_type": "code",
   "execution_count": 29,
   "metadata": {},
   "outputs": [
    {
     "name": "stdout",
     "output_type": "stream",
     "text": [
      "before : [('우리', 'Noun'), ('아이오아이', 'Noun'), ('는', 'Verb'), ('정말', 'Noun'), ('이뻐요', 'Adjective')]\n",
      "\n",
      "after  : [('우리', 'Noun'), ('아이돌', 'Noun'), ('는', 'Verb'), ('정말', 'Noun'), ('이뻐요', 'Adjective')]\n"
     ]
    }
   ],
   "source": [
    "replace = {\n",
    "    '아이오아이': '아이돌',\n",
    "    ('이뻐', 'Adjective'): '예쁘다'\n",
    "}\n",
    "\n",
    "postprocessor = Postprocessor(\n",
    "    base_tagger = twitter,\n",
    "    replace = replace\n",
    ")\n",
    "\n",
    "sent = '우리아이오아이는 정말 이뻐요'\n",
    "print('before : %s\\n' % twitter.pos(sent))\n",
    "print('after  : %s' % postprocessor.pos(sent))"
   ]
  },
  {
   "cell_type": "markdown",
   "metadata": {},
   "source": [
    "하나의 단어로 묶을 단어열을 tuple of str 로 만든 뒤, 품사와 함께 nested tuple 로 만듭니다. ngram 에 입력된 단어열은 ngram pos tag 로 합쳐져 출력됩니다. ngram pos tag 는 임의의 태그 이름을 넣을 수 있습니다."
   ]
  },
  {
   "cell_type": "code",
   "execution_count": 30,
   "metadata": {},
   "outputs": [
    {
     "name": "stdout",
     "output_type": "stream",
     "text": [
      "before : [('미스', 'Noun'), ('함무라비', 'Noun'), ('는', 'Josa'), ('재밌는', 'Adjective'), ('드라마', 'Noun'), ('입니다', 'Adjective')]\n",
      "\n",
      "after  : [('미스 - 함무라비', 'Noun'), ('는', 'Josa'), ('재밌는', 'Adjective'), ('드라마', 'Noun'), ('입니다', 'Adjective')]\n",
      "\n",
      "\n",
      "before : [('바람', 'Noun'), ('의', 'Josa'), ('나라', 'Noun'), ('는', 'Josa'), ('게임', 'Noun'), ('이름', 'Noun'), ('입니다', 'Adjective')]\n",
      "\n",
      "after  : [('바람 - 의 - 나라', 'Game'), ('는', 'Josa'), ('게임', 'Noun'), ('이름', 'Noun'), ('입니다', 'Adjective')]\n"
     ]
    }
   ],
   "source": [
    "ngrams = [(('미스', '함무라비'), 'Noun'), (('바람', '의', '나라'), 'Game')]\n",
    "\n",
    "postprocessor = Postprocessor(\n",
    "    base_tagger = twitter,\n",
    "    ngrams = ngrams\n",
    ")\n",
    "\n",
    "sent = '미스 함무라비는 재밌는 드라마입니다'\n",
    "print('before : %s\\n' % twitter.pos(sent))\n",
    "print('after  : %s\\n\\n' % postprocessor.pos(sent))\n",
    "\n",
    "sent = '바람의 나라는 게임이름 입니다'\n",
    "print('before : %s\\n' % twitter.pos(sent))\n",
    "print('after  : %s' % postprocessor.pos(sent))"
   ]
  },
  {
   "cell_type": "markdown",
   "metadata": {},
   "source": [
    "단어열만 입력한 경우에는 ngram 의 품사를 명사로 가정합니다."
   ]
  },
  {
   "cell_type": "code",
   "execution_count": 31,
   "metadata": {},
   "outputs": [
    {
     "name": "stdout",
     "output_type": "stream",
     "text": [
      "before : [('미스', 'Noun'), ('함무라비', 'Noun'), ('는', 'Josa'), ('재밌는', 'Adjective'), ('드라마', 'Noun'), ('입니다', 'Adjective')]\n",
      "\n",
      "after  : [('미스 - 함무라비', 'Noun'), ('는', 'Josa'), ('재밌는', 'Adjective'), ('드라마', 'Noun'), ('입니다', 'Adjective')]\n",
      "\n",
      "\n",
      "before : [('바람', 'Noun'), ('의', 'Josa'), ('나라', 'Noun'), ('는', 'Josa'), ('게임', 'Noun'), ('이름', 'Noun'), ('입니다', 'Adjective')]\n",
      "\n",
      "after  : [('바람 - 의 - 나라', 'Noun'), ('는', 'Josa'), ('게임', 'Noun'), ('이름', 'Noun'), ('입니다', 'Adjective')]\n"
     ]
    }
   ],
   "source": [
    "ngrams = [('미스', '함무라비'), ('바람', '의', '나라')]\n",
    "\n",
    "postprocessor = Postprocessor(\n",
    "    base_tagger = twitter,\n",
    "    ngrams = ngrams\n",
    ")\n",
    "\n",
    "sent = '미스 함무라비는 재밌는 드라마입니다'\n",
    "print('before : %s\\n' % twitter.pos(sent))\n",
    "print('after  : %s\\n\\n' % postprocessor.pos(sent))\n",
    "\n",
    "sent = '바람의 나라는 게임이름 입니다'\n",
    "print('before : %s\\n' % twitter.pos(sent))\n",
    "print('after  : %s' % postprocessor.pos(sent))"
   ]
  },
  {
   "cell_type": "markdown",
   "metadata": {},
   "source": [
    "## Loading wordset\n",
    "\n",
    "utils 에는 stopwords, passwords, replace word pair 를 파일로 저장하였을 경우, 이를 손쉽게 불러오는 함수가 있습니다.\n",
    "\n",
    "load_wordset 은 set of str 혹은 set of tuple 을 return 합니다. 예시의 passwords.txt 의 내용은 아래와 같습니다. 단어의 품사는 한 칸 띄어쓰기로 구분합니다.\n",
    "\n",
    "    아이오아이\n",
    "    아이오아이 Noun\n",
    "    공연"
   ]
  },
  {
   "cell_type": "code",
   "execution_count": 32,
   "metadata": {},
   "outputs": [
    {
     "name": "stdout",
     "output_type": "stream",
     "text": [
      "{'공연', '아이오아이', ('아이오아이', 'Noun')}\n"
     ]
    }
   ],
   "source": [
    "from ckonlpy.utils import load_wordset\n",
    "\n",
    "passwords = load_wordset('./passwords.txt')\n",
    "print(passwords)"
   ]
  },
  {
   "cell_type": "markdown",
   "metadata": {},
   "source": [
    "stopwords.txt 의 포멧은 passwords.txt 와 같습니다. 단어의 품사가 있을 경우 한 칸 띄어쓰기로 구분합니다.\n",
    "\n",
    "    은\n",
    "    는\n",
    "    이 Josa"
   ]
  },
  {
   "cell_type": "code",
   "execution_count": 33,
   "metadata": {},
   "outputs": [
    {
     "name": "stdout",
     "output_type": "stream",
     "text": [
      "{('이', 'Josa'), '는', '은'}\n"
     ]
    }
   ],
   "source": [
    "stopwords = load_wordset('./stopwords.txt')\n",
    "print(stopwords)"
   ]
  },
  {
   "cell_type": "markdown",
   "metadata": {},
   "source": [
    "치환할 단어쌍은 tap 구분이 되어있습니다. 치환될 단어에 품사 태그가 있을 경우 한 칸 띄어쓰기로 구분합니다.\n",
    "\n",
    "    str\\tstr\n",
    "    str str\\tstr\n",
    "\n",
    "아래는 replacewords.txt 의 예시입니다.\n",
    "\n",
    "    아빠\t아버지\n",
    "    엄마 Noun\t어머니"
   ]
  },
  {
   "cell_type": "code",
   "execution_count": 34,
   "metadata": {},
   "outputs": [
    {
     "name": "stdout",
     "output_type": "stream",
     "text": [
      "{'아빠': '아버지', ('엄마', 'Noun'): '어머니'}\n"
     ]
    }
   ],
   "source": [
    "from ckonlpy.utils import load_replace_wordpair\n",
    "\n",
    "replace = load_replace_wordpair('./replacewords.txt')\n",
    "print(replace)"
   ]
  },
  {
   "cell_type": "markdown",
   "metadata": {},
   "source": [
    "ngram 은 띄어쓰기 단위로 ngram 의 구성 단어를 기술합니다. tap 기준으로 ngram pos tag 를 저장합니다. pos tag 가 없다면 단어열만 포함합니다.\n",
    "\n",
    "    str str\n",
    "    str str str\\tstr"
   ]
  },
  {
   "cell_type": "code",
   "execution_count": 35,
   "metadata": {},
   "outputs": [
    {
     "name": "stdout",
     "output_type": "stream",
     "text": [
      "[('바람', '의', '나라'), (('미스', '함무라비'), 'Noun')]\n"
     ]
    }
   ],
   "source": [
    "from ckonlpy.utils import load_ngram\n",
    "\n",
    "ngrams = load_ngram('./ngrams.txt')\n",
    "pprint(ngrams)"
   ]
  },
  {
   "cell_type": "code",
   "execution_count": null,
   "metadata": {
    "collapsed": true
   },
   "outputs": [],
   "source": []
  }
 ],
 "metadata": {
  "anaconda-cloud": {},
  "kernelspec": {
   "display_name": "Python 3",
   "language": "python",
   "name": "python3"
  },
  "language_info": {
   "codemirror_mode": {
    "name": "ipython",
    "version": 3
   },
   "file_extension": ".py",
   "mimetype": "text/x-python",
   "name": "python",
   "nbconvert_exporter": "python",
   "pygments_lexer": "ipython3",
   "version": "3.6.2"
  }
 },
 "nbformat": 4,
 "nbformat_minor": 1
}
